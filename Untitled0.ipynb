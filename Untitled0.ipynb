{
  "nbformat": 4,
  "nbformat_minor": 0,
  "metadata": {
    "colab": {
      "provenance": [],
      "authorship_tag": "ABX9TyMHTCq4DJ1m06GFxdUULkXl",
      "include_colab_link": true
    },
    "kernelspec": {
      "name": "python3",
      "display_name": "Python 3"
    },
    "language_info": {
      "name": "python"
    }
  },
  "cells": [
    {
      "cell_type": "markdown",
      "metadata": {
        "id": "view-in-github",
        "colab_type": "text"
      },
      "source": [
        "<a href=\"https://colab.research.google.com/github/vishwakanthpaloju/vishnu/blob/master/Untitled0.ipynb\" target=\"_parent\"><img src=\"https://colab.research.google.com/assets/colab-badge.svg\" alt=\"Open In Colab\"/></a>"
      ]
    },
    {
      "cell_type": "code",
      "execution_count": 1,
      "metadata": {
        "id": "P7ogyvbmp7rG",
        "colab": {
          "base_uri": "https://localhost:8080/"
        },
        "outputId": "5013f1c5-bd88-4add-fe28-ba1c4f366441"
      },
      "outputs": [
        {
          "output_type": "stream",
          "name": "stdout",
          "text": [
            "hello vishnu\n"
          ]
        }
      ],
      "source": [
        "print(\"hello vishnu\")"
      ]
    },
    {
      "cell_type": "code",
      "source": [
        "var1 = \"hello all\"\n",
        "print(var1)"
      ],
      "metadata": {
        "colab": {
          "base_uri": "https://localhost:8080/"
        },
        "id": "u4bg0AmDTAei",
        "outputId": "c74e6884-70f6-42d8-f81c-0087163c324c"
      },
      "execution_count": 2,
      "outputs": [
        {
          "output_type": "stream",
          "name": "stdout",
          "text": [
            "hello all\n"
          ]
        }
      ]
    },
    {
      "cell_type": "code",
      "source": [
        "var1=15\n",
        "print(var1)\n"
      ],
      "metadata": {
        "colab": {
          "base_uri": "https://localhost:8080/"
        },
        "id": "DAYWQmqGTOs_",
        "outputId": "14c7d21a-6fda-43e6-c4cc-2521f6a3cb8c"
      },
      "execution_count": 4,
      "outputs": [
        {
          "output_type": "stream",
          "name": "stdout",
          "text": [
            "15\n"
          ]
        }
      ]
    },
    {
      "cell_type": "code",
      "source": [
        "from typing import List\n",
        "#lists\n",
        "#list are used in squared brackets\n",
        "List_num = [\"a1\",\"a2\",\"a3\",\"a4\"]\n",
        "print(List_num)"
      ],
      "metadata": {
        "colab": {
          "base_uri": "https://localhost:8080/"
        },
        "id": "8j2uvaWlxhMZ",
        "outputId": "f173a7fd-d56f-4817-b495-6bd915213911"
      },
      "execution_count": 6,
      "outputs": [
        {
          "output_type": "stream",
          "name": "stdout",
          "text": [
            "['a1', 'a2', 'a3', 'a4']\n"
          ]
        }
      ]
    },
    {
      "cell_type": "code",
      "source": [
        "print(List_num[0])"
      ],
      "metadata": {
        "colab": {
          "base_uri": "https://localhost:8080/"
        },
        "id": "YoUtoORyABZ2",
        "outputId": "e5c6e8e4-38f1-4ca8-88f0-20eb42c59b9e"
      },
      "execution_count": 17,
      "outputs": [
        {
          "output_type": "stream",
          "name": "stdout",
          "text": [
            "a0\n"
          ]
        }
      ]
    },
    {
      "cell_type": "markdown",
      "source": [
        "#to find length of the list\n",
        "#syn: len(listname)\n",
        "len(List_num)"
      ],
      "metadata": {
        "id": "aSnE0ryR6rbk"
      }
    },
    {
      "cell_type": "code",
      "source": [
        "#to add one more element in list(append)\n",
        "#it will be at end of list\n",
        "#syn: listname.append(\"element\")\n",
        "List_num.append(\"a5\")\n",
        "print(List_num)"
      ],
      "metadata": {
        "colab": {
          "base_uri": "https://localhost:8080/"
        },
        "id": "q9O8UfbF7Mmc",
        "outputId": "962c82dc-6cc1-4a91-e97e-1abc4935c105"
      },
      "execution_count": 10,
      "outputs": [
        {
          "output_type": "stream",
          "name": "stdout",
          "text": [
            "['a1', 'a2', 'a3', 'a4', 'a5', 'a5']\n"
          ]
        }
      ]
    },
    {
      "cell_type": "code",
      "source": [
        "#to add element in between(insert)\n",
        "#syn : listname.insert(0,\"a0\")\n",
        "List_num.insert(0,\"a0\")\n",
        "print(List_num)"
      ],
      "metadata": {
        "colab": {
          "base_uri": "https://localhost:8080/"
        },
        "id": "JR1aGysO7zkc",
        "outputId": "cce7e797-f31c-4b9d-dbe7-23d99b0fbfad"
      },
      "execution_count": 12,
      "outputs": [
        {
          "output_type": "stream",
          "name": "stdout",
          "text": [
            "['a0', 'a0', 'a1', 'a2', 'a3', 'a4', 'a5', 'a5']\n"
          ]
        }
      ]
    }
  ]
}